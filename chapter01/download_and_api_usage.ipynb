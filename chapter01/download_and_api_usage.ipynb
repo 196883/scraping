{
 "cells": [
  {
   "cell_type": "markdown",
   "metadata": {},
   "source": [
    "# クローリングとスクレイピング"
   ]
  },
  {
   "cell_type": "markdown",
   "metadata": {},
   "source": [
    "## データのダウンロード"
   ]
  },
  {
   "cell_type": "markdown",
   "metadata": {},
   "source": [
    "### urllib.requestを利用したダウンロード"
   ]
  },
  {
   "cell_type": "code",
   "execution_count": null,
   "metadata": {},
   "outputs": [],
   "source": [
    "import urllib.request\n",
    "\n",
    "url = \"http://uta.pw/shodou/img/28/214.png\"\n",
    "savename = \"test.png\"\n",
    " \n",
    "#urllib.requestを利用したダウンロード\n",
    "urllib.request.urlretrieve(url, savename)\n",
    "print(\"saved.\")"
   ]
  },
  {
   "cell_type": "markdown",
   "metadata": {},
   "source": [
    "urllib.urlopen()を利用したダウンロード(一旦メモリ上に保存して、その後ファイルに保存)"
   ]
  },
  {
   "cell_type": "code",
   "execution_count": null,
   "metadata": {},
   "outputs": [],
   "source": [
    "import urllib.request\n",
    "\n",
    "url = \"http://uta.pw/shodou/img/28/214.png\"\n",
    "savename = \"test.png\"\n",
    " \n",
    "#download\n",
    "mem = urllib.request.urlopen(url).read()\n",
    "\n",
    "#save to file\n",
    "with open(savename, mode = \"wb\") as f:\n",
    "    f.write(mem)\n",
    "    print(\"saved.\")"
   ]
  },
  {
   "cell_type": "markdown",
   "metadata": {},
   "source": [
    "`open`メソッドはファイルを開く際に使われるメソッド。ファイル名を指定し、そのオブジェクト名をfとしてプログラム上操作している。"
   ]
  },
  {
   "cell_type": "markdown",
   "metadata": {},
   "source": [
    "次に、webからXMLやHTML等のテキストベースのデータを取得する。"
   ]
  },
  {
   "cell_type": "code",
   "execution_count": null,
   "metadata": {},
   "outputs": [],
   "source": [
    "import urllib.request\n",
    "\n",
    "#Def URL and Get Data\n",
    "url = \"http://api.aoikujira.com/ip/ini\"\n",
    "res = urllib.request.urlopen(url)\n",
    "data = res.read()\n",
    "\n",
    "#Change data fromat to text.\n",
    "text = data.decode(\"utf-8\")\n",
    "print(text)"
   ]
  },
  {
   "cell_type": "markdown",
   "metadata": {},
   "source": [
    "パラメータを設定したうえで、APIにリクエストを投げることも可能。"
   ]
  },
  {
   "cell_type": "code",
   "execution_count": 1,
   "metadata": {
    "scrolled": true
   },
   "outputs": [
    {
     "name": "stdout",
     "output_type": "stream",
     "text": [
      "url= http://api.aoikujira.com/zip/xml/get.php?fmt=xml&zn=1500042\n",
      "<?xml version=\"1.0\" encoding=\"utf-8\" ?>\n",
      "<address result=\"1\">\n",
      "<header>\n",
      "  <result>1</result>\n",
      "  <api>api.aoikujira.com/zip</api>\n",
      "  <version>1.1</version>\n",
      "</header>\n",
      "<value>\n",
      "  <zip>1500042</zip>\n",
      "  <ken>東京都</ken>\n",
      "  <shi>渋谷区</shi>\n",
      "  <cho>宇田川町</cho>\n",
      "  <disp>東京都渋谷区宇田川町</disp>\n",
      "  <kenkana>トウキョウト</kenkana>\n",
      "  <shikana>シブヤク</shikana>\n",
      "  <chokana>ウダガワチョウ</chokana>\n",
      "</value>\n",
      "</address>\n"
     ]
    }
   ],
   "source": [
    "import urllib.request\n",
    "import urllib.parse\n",
    "\n",
    "API = \"http://api.aoikujira.com/zip/xml/get.php\"\n",
    "\n",
    "values = {\n",
    "    'fmt': 'xml',\n",
    "    'zn':'1500042'\n",
    "}\n",
    "#transform python dict format to URL form.\n",
    "params = urllib.parse.urlencode(values)\n",
    "\n",
    "url = API + \"?\" + params\n",
    "print(\"url=\", url)\n",
    "\n",
    "data = urllib.request.urlopen(url).read()\n",
    "text = data.decode(\"utf-8\")\n",
    "print(text)"
   ]
  }
 ],
 "metadata": {
  "kernelspec": {
   "display_name": "Python 3",
   "language": "python",
   "name": "python3"
  },
  "language_info": {
   "codemirror_mode": {
    "name": "ipython",
    "version": 3
   },
   "file_extension": ".py",
   "mimetype": "text/x-python",
   "name": "python",
   "nbconvert_exporter": "python",
   "pygments_lexer": "ipython3",
   "version": "3.6.5"
  }
 },
 "nbformat": 4,
 "nbformat_minor": 2
}
